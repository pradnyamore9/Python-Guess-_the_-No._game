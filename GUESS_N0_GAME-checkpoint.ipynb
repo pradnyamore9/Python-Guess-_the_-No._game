{
 "cells": [
  {
   "cell_type": "code",
   "execution_count": null,
   "id": "a5a3cd73",
   "metadata": {},
   "outputs": [],
   "source": [
    "import random\n",
    "\n",
    "target=random.randint(1,100)\n",
    "\n",
    "while True:\n",
    "    userChoice=input(\"Guess the target or Quit :\")\n",
    "    if(userChoice==\"Q\"):\n",
    "        print(\"oopsss you quit the game😓\")\n",
    "        break\n",
    "    userChoice=int(userChoice)\n",
    "    if(userChoice==target):\n",
    "        print(\"success : correct guess👍🫡 \")\n",
    "        break\n",
    "    elif(userChoice<target):\n",
    "        print(\"HINT💡---> your choice is too small🤦‍♀️\")\n",
    "    else:\n",
    "        print(\"HINT💡---->your choice is too large🤦‍\")\n",
    "            \n",
    "print(\"------GAME OVER✌️😎-------\")"
   ]
  },
  {
   "cell_type": "code",
   "execution_count": null,
   "id": "3adefa9d",
   "metadata": {},
   "outputs": [],
   "source": []
  }
 ],
 "metadata": {
  "kernelspec": {
   "display_name": "Python 3 (ipykernel)",
   "language": "python",
   "name": "python3"
  },
  "language_info": {
   "codemirror_mode": {
    "name": "ipython",
    "version": 3
   },
   "file_extension": ".py",
   "mimetype": "text/x-python",
   "name": "python",
   "nbconvert_exporter": "python",
   "pygments_lexer": "ipython3",
   "version": "3.11.5"
  }
 },
 "nbformat": 4,
 "nbformat_minor": 5
}
